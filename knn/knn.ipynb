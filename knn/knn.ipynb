{
 "cells": [
  {
   "cell_type": "code",
   "execution_count": 1,
   "id": "fdbe4c1f-a235-4d23-a2bd-42b02cce2e30",
   "metadata": {
    "ExecuteTime": {
     "end_time": "2023-10-27T18:47:41.499016800Z",
     "start_time": "2023-10-27T18:47:36.620482500Z"
    }
   },
   "outputs": [],
   "source": [
    "import pandas as pd\n",
    "import numpy as np\n",
    "from sklearn.model_selection import train_test_split\n",
    "from sklearn.preprocessing import StandardScaler\n",
    "from sklearn.metrics import accuracy_score\n",
    "\n",
    "# Загрузка данных\n",
    "data = pd.read_csv('../datasets/smoking_driking_dataset_Ver01.csv')"
   ]
  },
  {
   "cell_type": "code",
   "execution_count": 2,
   "id": "8a7d9712-d69a-4a87-98ed-b64003d9e266",
   "metadata": {
    "ExecuteTime": {
     "end_time": "2023-10-27T18:47:45.382687900Z",
     "start_time": "2023-10-27T18:47:41.499016800Z"
    }
   },
   "outputs": [
    {
     "name": "stdout",
     "output_type": "stream",
     "text": [
      "        sex  age  height  weight  waistline  sight_left  sight_right  \\\n",
      "0         1   35     170      75       90.0         1.0          1.0   \n",
      "1         1   30     180      80       89.0         0.9          1.2   \n",
      "2         1   40     165      75       91.0         1.2          1.5   \n",
      "3         1   50     175      80       91.0         1.5          1.2   \n",
      "4         1   50     165      60       80.0         1.0          1.2   \n",
      "...     ...  ...     ...     ...        ...         ...          ...   \n",
      "991341    1   45     175      80       92.1         1.5          1.5   \n",
      "991342    1   35     170      75       86.0         1.0          1.5   \n",
      "991343    1   40     155      50       68.0         1.0          0.7   \n",
      "991344    1   25     175      60       72.0         1.5          1.0   \n",
      "991345    1   50     160      70       90.5         1.0          1.5   \n",
      "\n",
      "        hear_left  hear_right    SBP  ...  LDL_chole  triglyceride  \\\n",
      "0             1.0         1.0  120.0  ...      126.0          92.0   \n",
      "1             1.0         1.0  130.0  ...      148.0         121.0   \n",
      "2             1.0         1.0  120.0  ...       74.0         104.0   \n",
      "3             1.0         1.0  145.0  ...      104.0         106.0   \n",
      "4             1.0         1.0  138.0  ...      117.0         104.0   \n",
      "...           ...         ...    ...  ...        ...           ...   \n",
      "991341        1.0         1.0  114.0  ...      125.0         132.0   \n",
      "991342        1.0         1.0  119.0  ...       84.0          45.0   \n",
      "991343        1.0         1.0  110.0  ...       77.0         157.0   \n",
      "991344        1.0         1.0  119.0  ...       73.0          53.0   \n",
      "991345        1.0         1.0  133.0  ...      153.0         163.0   \n",
      "\n",
      "        hemoglobin  urine_protein  serum_creatinine  SGOT_AST  SGOT_ALT  \\\n",
      "0             17.1            1.0               1.0      21.0      35.0   \n",
      "1             15.8            1.0               0.9      20.0      36.0   \n",
      "2             15.8            1.0               0.9      47.0      32.0   \n",
      "3             17.6            1.0               1.1      29.0      34.0   \n",
      "4             13.8            1.0               0.8      19.0      12.0   \n",
      "...            ...            ...               ...       ...       ...   \n",
      "991341        15.0            1.0               1.0      26.0      36.0   \n",
      "991342        15.8            1.0               1.1      14.0      17.0   \n",
      "991343        14.3            1.0               0.8      30.0      27.0   \n",
      "991344        14.5            1.0               0.8      21.0      14.0   \n",
      "991345        15.8            1.0               0.9      24.0      43.0   \n",
      "\n",
      "        gamma_GTP  SMK_stat_type_cd  DRK_YN  \n",
      "0            40.0               1.0       1  \n",
      "1            27.0               3.0       0  \n",
      "2            68.0               1.0       0  \n",
      "3            18.0               1.0       0  \n",
      "4            25.0               1.0       0  \n",
      "...           ...               ...     ...  \n",
      "991341       27.0               1.0       0  \n",
      "991342       15.0               1.0       0  \n",
      "991343       17.0               3.0       1  \n",
      "991344       17.0               1.0       0  \n",
      "991345       36.0               3.0       1  \n",
      "\n",
      "[991346 rows x 24 columns]\n"
     ]
    }
   ],
   "source": [
    "data['sex'] = data['sex'].apply(lambda x: 0 if x == 'female' else 1)\n",
    "data['DRK_YN'] = data['DRK_YN'].apply(lambda x: 0 if x == 'N' else 1)\n",
    "print(data)"
   ]
  },
  {
   "cell_type": "code",
   "execution_count": 3,
   "id": "09f2bc8d-1dc6-4231-853d-38122ae740f3",
   "metadata": {
    "ExecuteTime": {
     "end_time": "2023-10-27T18:47:45.888995600Z",
     "start_time": "2023-10-27T18:47:45.382687900Z"
    }
   },
   "outputs": [
    {
     "name": "stdout",
     "output_type": "stream",
     "text": [
      "        sex  age  height  weight  waistline  sight_left  sight_right  \\\n",
      "676014    1   45     160      60       85.0         1.2          1.0   \n",
      "958905    1   30     175      70       87.0         0.9          0.9   \n",
      "472540    1   35     180      85       93.0         1.2          1.5   \n",
      "244194    1   35     175      80       89.0         1.5          1.5   \n",
      "88447     1   40     160      70       97.0         1.5          1.0   \n",
      "...     ...  ...     ...     ...        ...         ...          ...   \n",
      "503986    1   70     160      75       99.0         0.4          0.2   \n",
      "123028    1   25     180      65       80.0         1.5          1.5   \n",
      "808421    1   35     175      85       97.0         0.9          1.0   \n",
      "131018    1   55     150      45       71.0         0.8          0.9   \n",
      "475394    1   50     170      70       91.0         1.2          1.2   \n",
      "\n",
      "        hear_left  hear_right    SBP  ...  LDL_chole  triglyceride  \\\n",
      "676014        1.0         1.0  113.0  ...      100.0          64.0   \n",
      "958905        1.0         1.0  135.0  ...      147.0         127.0   \n",
      "472540        1.0         1.0  129.0  ...      119.0         204.0   \n",
      "244194        1.0         1.0  119.0  ...      130.0          50.0   \n",
      "88447         1.0         1.0  124.0  ...       91.0          81.0   \n",
      "...           ...         ...    ...  ...        ...           ...   \n",
      "503986        2.0         1.0  121.0  ...       96.0          73.0   \n",
      "123028        1.0         1.0  118.0  ...       73.0          56.0   \n",
      "808421        1.0         1.0  122.0  ...       91.0         290.0   \n",
      "131018        1.0         1.0  122.0  ...      110.0          84.0   \n",
      "475394        1.0         1.0  118.0  ...      148.0         114.0   \n",
      "\n",
      "        hemoglobin  urine_protein  serum_creatinine  SGOT_AST  SGOT_ALT  \\\n",
      "676014        13.3            1.0               0.8      16.0      13.0   \n",
      "958905        15.9            2.0               1.2      24.0      28.0   \n",
      "472540        16.6            1.0               1.0      34.0      61.0   \n",
      "244194        15.2            1.0               0.9      18.0      17.0   \n",
      "88447         12.8            1.0               0.5      15.0      17.0   \n",
      "...            ...            ...               ...       ...       ...   \n",
      "503986        16.4            1.0               1.1      26.0      25.0   \n",
      "123028        14.8            1.0               1.2      22.0      15.0   \n",
      "808421        15.6            1.0               0.9      19.0      19.0   \n",
      "131018        12.9            1.0               0.5      16.0      11.0   \n",
      "475394        16.6            1.0               0.8      49.0      68.0   \n",
      "\n",
      "        gamma_GTP  SMK_stat_type_cd  DRK_YN  \n",
      "676014       14.0               1.0       0  \n",
      "958905       16.0               1.0       0  \n",
      "472540       25.0               2.0       0  \n",
      "244194       17.0               1.0       1  \n",
      "88447        14.0               1.0       0  \n",
      "...           ...               ...     ...  \n",
      "503986       38.0               3.0       1  \n",
      "123028       12.0               1.0       0  \n",
      "808421       18.0               2.0       0  \n",
      "131018       18.0               1.0       0  \n",
      "475394      206.0               2.0       1  \n",
      "\n",
      "[1000 rows x 24 columns]\n"
     ]
    }
   ],
   "source": [
    "data = data.sample(n=1000, random_state=42)\n",
    "print(data)"
   ]
  },
  {
   "cell_type": "code",
   "execution_count": 4,
   "outputs": [],
   "source": [
    "X = data.drop('hemoglobin', axis=1)\n",
    "y = data['DRK_YN']"
   ],
   "metadata": {
    "collapsed": false,
    "ExecuteTime": {
     "end_time": "2023-10-27T18:47:45.888995600Z",
     "start_time": "2023-10-27T18:47:45.862388200Z"
    }
   },
   "id": "a3186091-c15a-474c-b9e4-144fa1a86367"
  },
  {
   "cell_type": "code",
   "execution_count": 5,
   "id": "b0184535-51c0-4ce8-a894-fa72a365f517",
   "metadata": {
    "ExecuteTime": {
     "end_time": "2023-10-27T18:47:46.083349300Z",
     "start_time": "2023-10-27T18:47:45.888995600Z"
    }
   },
   "outputs": [],
   "source": [
    "X_train, X_test, y_train, y_test = train_test_split(X, y, test_size=0.2, random_state=42)"
   ]
  },
  {
   "cell_type": "code",
   "execution_count": 6,
   "id": "5bb2af6b-bcfe-4274-b2b9-fa75520e3d4d",
   "metadata": {
    "ExecuteTime": {
     "end_time": "2023-10-27T18:47:46.479834600Z",
     "start_time": "2023-10-27T18:47:46.468002500Z"
    }
   },
   "outputs": [
    {
     "name": "stdout",
     "output_type": "stream",
     "text": [
      "0      1\n",
      "1      0\n",
      "2      1\n",
      "3      1\n",
      "4      0\n",
      "      ..\n",
      "795    0\n",
      "796    0\n",
      "797    1\n",
      "798    1\n",
      "799    1\n",
      "Name: DRK_YN, Length: 800, dtype: int64\n"
     ]
    }
   ],
   "source": [
    "y_train = y_train.reset_index(drop=True)\n",
    "y_test = y_test.reset_index(drop=True)\n",
    "print(y_train)"
   ]
  },
  {
   "cell_type": "code",
   "execution_count": 7,
   "id": "788069e6-8332-403b-a92e-35cf250b3e55",
   "metadata": {
    "ExecuteTime": {
     "end_time": "2023-10-27T18:47:48.974794800Z",
     "start_time": "2023-10-27T18:47:48.926268700Z"
    }
   },
   "outputs": [],
   "source": [
    "scaler = StandardScaler()\n",
    "X_train = scaler.fit_transform(X_train)\n",
    "X_test = scaler.transform(X_test)"
   ]
  },
  {
   "cell_type": "code",
   "execution_count": 8,
   "id": "30951427-d5be-4a00-b529-a8d823f6cb55",
   "metadata": {
    "ExecuteTime": {
     "end_time": "2023-10-27T18:47:50.656861500Z",
     "start_time": "2023-10-27T18:47:50.641233900Z"
    }
   },
   "outputs": [],
   "source": [
    "def knn_predict(X_train, y_train, X_test, k=3):\n",
    "    predictions = []\n",
    "    for x in X_test:\n",
    "        distances = [np.linalg.norm(x - x_train) for x_train in X_train]\n",
    "        k_indices = np.argsort(distances)[:k]\n",
    "        k_nearest_labels = [y_train[i] for i in k_indices]\n",
    "        most_common = np.bincount(k_nearest_labels).argmax()\n",
    "        predictions.append(most_common)\n",
    "    return predictions"
   ]
  },
  {
   "cell_type": "markdown",
   "source": [],
   "metadata": {
    "collapsed": false
   },
   "id": "cd3e903d6936693c"
  },
  {
   "cell_type": "code",
   "execution_count": 9,
   "outputs": [],
   "source": [
    "k_value = 3\n",
    "y_pred = knn_predict(X_train, y_train, X_test, k=k_value)"
   ],
   "metadata": {
    "collapsed": false,
    "ExecuteTime": {
     "end_time": "2023-10-27T18:47:58.793504200Z",
     "start_time": "2023-10-27T18:47:52.711318800Z"
    }
   },
   "id": "a4d3def87578e4eb"
  },
  {
   "cell_type": "code",
   "execution_count": 10,
   "outputs": [
    {
     "name": "stdout",
     "output_type": "stream",
     "text": [
      "Точность модели (k=3): 0.97\n"
     ]
    }
   ],
   "source": [
    "accuracy = accuracy_score(y_test, y_pred)\n",
    "print(f'Точность модели (k={k_value}): {accuracy:.2f}')"
   ],
   "metadata": {
    "collapsed": false,
    "ExecuteTime": {
     "end_time": "2023-10-27T18:48:49.215523800Z",
     "start_time": "2023-10-27T18:48:49.190997500Z"
    }
   },
   "id": "9421c6b7abb375a4"
  },
  {
   "cell_type": "code",
   "execution_count": 11,
   "outputs": [
    {
     "name": "stdout",
     "output_type": "stream",
     "text": [
      "Соотношение классов в обучающей выборке:\n",
      "DRK_YN\n",
      "1    408\n",
      "0    392\n",
      "Name: count, dtype: int64\n",
      "\n",
      "Соотношение классов в тестовой выборке:\n",
      "DRK_YN\n",
      "0    104\n",
      "1     96\n",
      "Name: count, dtype: int64\n"
     ]
    }
   ],
   "source": [
    "train_class_distribution = y_train.value_counts()\n",
    "test_class_distribution = y_test.value_counts()\n",
    "\n",
    "print(\"Соотношение классов в обучающей выборке:\")\n",
    "print(train_class_distribution)\n",
    "\n",
    "print(\"\\nСоотношение классов в тестовой выборке:\")\n",
    "print(test_class_distribution)\n"
   ],
   "metadata": {
    "collapsed": false,
    "ExecuteTime": {
     "end_time": "2023-10-27T18:48:50.746488600Z",
     "start_time": "2023-10-27T18:48:50.725225400Z"
    }
   },
   "id": "12affa6c528b8949"
  },
  {
   "cell_type": "code",
   "execution_count": null,
   "outputs": [],
   "source": [],
   "metadata": {
    "collapsed": false
   }
  }
 ],
 "metadata": {
  "kernelspec": {
   "display_name": "Python 3 (ipykernel)",
   "language": "python",
   "name": "python3"
  },
  "language_info": {
   "codemirror_mode": {
    "name": "ipython",
    "version": 3
   },
   "file_extension": ".py",
   "mimetype": "text/x-python",
   "name": "python",
   "nbconvert_exporter": "python",
   "pygments_lexer": "ipython3",
   "version": "3.12.0"
  }
 },
 "nbformat": 4,
 "nbformat_minor": 5
}
