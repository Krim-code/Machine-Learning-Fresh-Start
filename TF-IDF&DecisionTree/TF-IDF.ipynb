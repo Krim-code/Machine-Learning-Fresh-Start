{
 "cells": [
  {
   "cell_type": "code",
   "execution_count": 2,
   "metadata": {
    "collapsed": true
   },
   "outputs": [],
   "source": [
    "import numpy as np\n",
    "import pandas as pd\n",
    "import matplotlib.pyplot as plt\n",
    "import seaborn as sns\n",
    "from collections import Counter\n",
    "import math\n",
    "from sklearn.model_selection import train_test_split\n"
   ]
  },
  {
   "cell_type": "code",
   "execution_count": 3,
   "outputs": [],
   "source": [
    "df = pd.read_csv(\"../datasets/starbacks_review.csv\")"
   ],
   "metadata": {
    "collapsed": false
   }
  },
  {
   "cell_type": "code",
   "execution_count": 4,
   "outputs": [
    {
     "data": {
      "text/plain": "       name           location                     Date  Rating  \\\n0     Helen  Wichita Falls, TX  Reviewed Sept. 13, 2023     5.0   \n1  Courtney         Apopka, FL   Reviewed July 16, 2023     5.0   \n2  Daynelle  Cranberry Twp, PA    Reviewed July 5, 2023     5.0   \n3    Taylor        Seattle, WA    Reviewed May 26, 2023     5.0   \n4   Tenessa        Gresham, OR   Reviewed Jan. 22, 2023     5.0   \n\n                                              Review  \\\n0  Amber and LaDonna at the Starbucks on Southwes...   \n1  ** at the Starbucks by the fire station on 436...   \n2  I just wanted to go out of my way to recognize...   \n3  Me and my friend were at Starbucks and my card...   \n4  I’m on this kick of drinking 5 cups of warm wa...   \n\n                                         Image_Links  \n0                                      ['No Images']  \n1                                      ['No Images']  \n2  ['https://media.consumeraffairs.com/files/cach...  \n3                                      ['No Images']  \n4  ['https://media.consumeraffairs.com/files/cach...  ",
      "text/html": "<div>\n<style scoped>\n    .dataframe tbody tr th:only-of-type {\n        vertical-align: middle;\n    }\n\n    .dataframe tbody tr th {\n        vertical-align: top;\n    }\n\n    .dataframe thead th {\n        text-align: right;\n    }\n</style>\n<table border=\"1\" class=\"dataframe\">\n  <thead>\n    <tr style=\"text-align: right;\">\n      <th></th>\n      <th>name</th>\n      <th>location</th>\n      <th>Date</th>\n      <th>Rating</th>\n      <th>Review</th>\n      <th>Image_Links</th>\n    </tr>\n  </thead>\n  <tbody>\n    <tr>\n      <th>0</th>\n      <td>Helen</td>\n      <td>Wichita Falls, TX</td>\n      <td>Reviewed Sept. 13, 2023</td>\n      <td>5.0</td>\n      <td>Amber and LaDonna at the Starbucks on Southwes...</td>\n      <td>['No Images']</td>\n    </tr>\n    <tr>\n      <th>1</th>\n      <td>Courtney</td>\n      <td>Apopka, FL</td>\n      <td>Reviewed July 16, 2023</td>\n      <td>5.0</td>\n      <td>** at the Starbucks by the fire station on 436...</td>\n      <td>['No Images']</td>\n    </tr>\n    <tr>\n      <th>2</th>\n      <td>Daynelle</td>\n      <td>Cranberry Twp, PA</td>\n      <td>Reviewed July 5, 2023</td>\n      <td>5.0</td>\n      <td>I just wanted to go out of my way to recognize...</td>\n      <td>['https://media.consumeraffairs.com/files/cach...</td>\n    </tr>\n    <tr>\n      <th>3</th>\n      <td>Taylor</td>\n      <td>Seattle, WA</td>\n      <td>Reviewed May 26, 2023</td>\n      <td>5.0</td>\n      <td>Me and my friend were at Starbucks and my card...</td>\n      <td>['No Images']</td>\n    </tr>\n    <tr>\n      <th>4</th>\n      <td>Tenessa</td>\n      <td>Gresham, OR</td>\n      <td>Reviewed Jan. 22, 2023</td>\n      <td>5.0</td>\n      <td>I’m on this kick of drinking 5 cups of warm wa...</td>\n      <td>['https://media.consumeraffairs.com/files/cach...</td>\n    </tr>\n  </tbody>\n</table>\n</div>"
     },
     "metadata": {},
     "output_type": "display_data"
    }
   ],
   "source": [
    "df=pd.DataFrame(df)\n",
    "display(df.head(5))"
   ],
   "metadata": {
    "collapsed": false
   }
  },
  {
   "cell_type": "code",
   "execution_count": 5,
   "outputs": [
    {
     "name": "stdout",
     "output_type": "stream",
     "text": [
      "           Rating\n",
      "count  705.000000\n",
      "mean     1.870922\n",
      "std      1.397672\n",
      "min      1.000000\n",
      "25%      1.000000\n",
      "50%      1.000000\n",
      "75%      2.000000\n",
      "max      5.000000\n",
      "(850, 6)\n"
     ]
    }
   ],
   "source": [
    "print(df.describe())\n",
    "print(df.shape)"
   ],
   "metadata": {
    "collapsed": false
   }
  },
  {
   "cell_type": "code",
   "execution_count": 6,
   "outputs": [
    {
     "name": "stdout",
     "output_type": "stream",
     "text": [
      "[False  True]\n"
     ]
    }
   ],
   "source": [
    "duplicate_rows = df.duplicated()\n",
    "print(duplicate_rows.unique())"
   ],
   "metadata": {
    "collapsed": false
   }
  },
  {
   "cell_type": "code",
   "execution_count": 7,
   "outputs": [],
   "source": [
    "df=df.drop_duplicates(keep='first')"
   ],
   "metadata": {
    "collapsed": false
   }
  },
  {
   "cell_type": "code",
   "execution_count": 8,
   "outputs": [
    {
     "name": "stdout",
     "output_type": "stream",
     "text": [
      "name             0\n",
      "location         0\n",
      "Date             0\n",
      "Rating         144\n",
      "Review           0\n",
      "Image_Links      0\n",
      "dtype: int64\n"
     ]
    }
   ],
   "source": [
    "print(df.isna().sum())"
   ],
   "metadata": {
    "collapsed": false
   }
  },
  {
   "cell_type": "code",
   "execution_count": 9,
   "outputs": [
    {
     "name": "stdout",
     "output_type": "stream",
     "text": [
      "(813, 6)\n",
      "Rating\n",
      "1.0    450\n",
      "2.0     98\n",
      "5.0     83\n",
      "4.0     39\n",
      "3.0     33\n",
      "Name: count, dtype: int64\n",
      "name             0\n",
      "location         0\n",
      "Date             0\n",
      "Rating         110\n",
      "Review           0\n",
      "Image_Links      0\n",
      "dtype: int64\n"
     ]
    }
   ],
   "source": [
    "df = df[(df['Review'] != 'No Review Text')]\n",
    "print(df.shape)\n",
    "print(df['Rating'].value_counts())\n",
    "print(df.isna().sum())"
   ],
   "metadata": {
    "collapsed": false
   }
  },
  {
   "cell_type": "code",
   "execution_count": 10,
   "outputs": [
    {
     "data": {
      "text/plain": "       name           location                     Date  Rating  \\\n0     Helen  Wichita Falls, TX  Reviewed Sept. 13, 2023     5.0   \n1  Courtney         Apopka, FL   Reviewed July 16, 2023     5.0   \n2  Daynelle  Cranberry Twp, PA    Reviewed July 5, 2023     5.0   \n3    Taylor        Seattle, WA    Reviewed May 26, 2023     5.0   \n4   Tenessa        Gresham, OR   Reviewed Jan. 22, 2023     5.0   \n\n                                              Review  \\\n0  Amber and LaDonna at the Starbucks on Southwes...   \n1  ** at the Starbucks by the fire station on 436...   \n2  I just wanted to go out of my way to recognize...   \n3  Me and my friend were at Starbucks and my card...   \n4  I’m on this kick of drinking 5 cups of warm wa...   \n\n                                         Image_Links  \\\n0                                      ['No Images']   \n1                                      ['No Images']   \n2  ['https://media.consumeraffairs.com/files/cach...   \n3                                      ['No Images']   \n4  ['https://media.consumeraffairs.com/files/cach...   \n\n                                          clear_text  \n0  [amber, ladonna, starbuck, southwest, parkway,...  \n1  [*, *, starbuck, fire, station, 436, altamont,...  \n2  [want, go, way, recogn, starbuck, employe, bil...  \n3  [friend, starbuck, card, ’, work, ., thank, wo...  \n4  [’, kick, drink, 5, cup, warm, water, ., work,...  ",
      "text/html": "<div>\n<style scoped>\n    .dataframe tbody tr th:only-of-type {\n        vertical-align: middle;\n    }\n\n    .dataframe tbody tr th {\n        vertical-align: top;\n    }\n\n    .dataframe thead th {\n        text-align: right;\n    }\n</style>\n<table border=\"1\" class=\"dataframe\">\n  <thead>\n    <tr style=\"text-align: right;\">\n      <th></th>\n      <th>name</th>\n      <th>location</th>\n      <th>Date</th>\n      <th>Rating</th>\n      <th>Review</th>\n      <th>Image_Links</th>\n      <th>clear_text</th>\n    </tr>\n  </thead>\n  <tbody>\n    <tr>\n      <th>0</th>\n      <td>Helen</td>\n      <td>Wichita Falls, TX</td>\n      <td>Reviewed Sept. 13, 2023</td>\n      <td>5.0</td>\n      <td>Amber and LaDonna at the Starbucks on Southwes...</td>\n      <td>['No Images']</td>\n      <td>[amber, ladonna, starbuck, southwest, parkway,...</td>\n    </tr>\n    <tr>\n      <th>1</th>\n      <td>Courtney</td>\n      <td>Apopka, FL</td>\n      <td>Reviewed July 16, 2023</td>\n      <td>5.0</td>\n      <td>** at the Starbucks by the fire station on 436...</td>\n      <td>['No Images']</td>\n      <td>[*, *, starbuck, fire, station, 436, altamont,...</td>\n    </tr>\n    <tr>\n      <th>2</th>\n      <td>Daynelle</td>\n      <td>Cranberry Twp, PA</td>\n      <td>Reviewed July 5, 2023</td>\n      <td>5.0</td>\n      <td>I just wanted to go out of my way to recognize...</td>\n      <td>['https://media.consumeraffairs.com/files/cach...</td>\n      <td>[want, go, way, recogn, starbuck, employe, bil...</td>\n    </tr>\n    <tr>\n      <th>3</th>\n      <td>Taylor</td>\n      <td>Seattle, WA</td>\n      <td>Reviewed May 26, 2023</td>\n      <td>5.0</td>\n      <td>Me and my friend were at Starbucks and my card...</td>\n      <td>['No Images']</td>\n      <td>[friend, starbuck, card, ’, work, ., thank, wo...</td>\n    </tr>\n    <tr>\n      <th>4</th>\n      <td>Tenessa</td>\n      <td>Gresham, OR</td>\n      <td>Reviewed Jan. 22, 2023</td>\n      <td>5.0</td>\n      <td>I’m on this kick of drinking 5 cups of warm wa...</td>\n      <td>['https://media.consumeraffairs.com/files/cach...</td>\n      <td>[’, kick, drink, 5, cup, warm, water, ., work,...</td>\n    </tr>\n  </tbody>\n</table>\n</div>"
     },
     "metadata": {},
     "output_type": "display_data"
    }
   ],
   "source": [
    "# Pre-processing the text.\n",
    "# Text processing\n",
    "\n",
    "from nltk.tokenize import word_tokenize\n",
    "import re\n",
    "from nltk.corpus import stopwords\n",
    "from nltk.stem import PorterStemmer\n",
    "\n",
    "# lowercase the letters on each review row\n",
    "df['clear_text']=df['Review'].str.lower()\n",
    "\n",
    "# remove all characters that are not word characters (letters, digits, and underscores) or whitespace characters.\n",
    "df['clear_text']=df['clear_text'].apply(lambda x : re.sub(r'[^\\w\\s]', '', x))\n",
    "\n",
    "# tokenizes the text in the 'Review' column using the word_tokenize function.\n",
    "df['clear_text']=df['Review'].apply(lambda x : word_tokenize(x))\n",
    "\n",
    "# define a set of stop words specific to the English language.\n",
    "# further clean the text data by removing common, less informative words.\n",
    "stop_words = set(stopwords.words('english'))\n",
    "df['clear_text'] = df['clear_text'].apply(lambda tokens: [word for word in tokens if word.lower() not in stop_words])\n",
    "\n",
    "# reducing words to their base or root form.Normalize words and reduce them to a common form to improve text analysis.\n",
    "stemmer = PorterStemmer()\n",
    "df['clear_text'] = df['clear_text'].apply(lambda tokens: [stemmer.stem(word) for word in tokens])\n",
    "\n",
    "display(df.head(5))"
   ],
   "metadata": {
    "collapsed": false
   }
  },
  {
   "cell_type": "code",
   "execution_count": 11,
   "outputs": [
    {
     "name": "stdout",
     "output_type": "stream",
     "text": [
      "(2250, 7)\n",
      "Rating\n",
      "1.0    450\n",
      "2.0    450\n",
      "3.0    450\n",
      "4.0    450\n",
      "5.0    450\n",
      "Name: count, dtype: int64\n"
     ]
    }
   ],
   "source": [
    "filtered=df[~(df['Rating'].isna())]\n",
    "rating_1=filtered[filtered['Rating']==1.0]\n",
    "from sklearn.utils import resample\n",
    "resampled_datasets = []\n",
    "unique_ratings = [1.0, 2.0, 3.0, 4.0, 5.0]\n",
    "for rating in unique_ratings:\n",
    "    rating_data = filtered[filtered[\"Rating\"] == rating]\n",
    "    resampled_data = resample(rating_data, replace=True, n_samples=len(rating_1), random_state=0)\n",
    "    resampled_datasets.append(resampled_data)\n",
    "combined_df = pd.concat(resampled_datasets, ignore_index=True)\n",
    "print(combined_df.shape)\n",
    "print(combined_df['Rating'].value_counts())\n"
   ],
   "metadata": {
    "collapsed": false
   }
  },
  {
   "cell_type": "code",
   "execution_count": 12,
   "outputs": [],
   "source": [
    "from sklearn.feature_extraction.text import TfidfVectorizer\n",
    "tfidf = TfidfVectorizer()\n",
    "X =combined_df['clear_text'].apply(lambda tokens: ' '.join(tokens))\n",
    "y = combined_df['Rating']"
   ],
   "metadata": {
    "collapsed": false
   }
  },
  {
   "cell_type": "code",
   "execution_count": 13,
   "outputs": [
    {
     "name": "stdout",
     "output_type": "stream",
     "text": [
      "(1687,)\n",
      "(1687,)\n",
      "(563,)\n",
      "(563,)\n"
     ]
    }
   ],
   "source": [
    "from sklearn.model_selection import train_test_split\n",
    "\n",
    "# Split the data for train and test\n",
    "X_train,X_test,y_train,y_test=train_test_split(X,y,test_size=0.25)\n",
    "print(X_train.shape)\n",
    "print(y_train.shape)\n",
    "print(X_test.shape)\n",
    "print(y_test.shape)"
   ],
   "metadata": {
    "collapsed": false
   }
  },
  {
   "cell_type": "code",
   "execution_count": 14,
   "outputs": [],
   "source": [
    "from sklearn.feature_extraction.text import TfidfVectorizer\n",
    "tfidf_vectorizer = TfidfVectorizer()\n",
    "\n",
    "# Fit and transform the training data\n",
    "X_train_tfidf = tfidf_vectorizer.fit_transform(X_train)\n",
    "\n",
    "# Transform the testing data\n",
    "X_test_tfidf = tfidf_vectorizer.transform(X_test)"
   ],
   "metadata": {
    "collapsed": false
   }
  },
  {
   "cell_type": "code",
   "execution_count": 15,
   "outputs": [
    {
     "name": "stdout",
     "output_type": "stream",
     "text": [
      "Accuracy: 0.9467140319715808\n"
     ]
    }
   ],
   "source": [
    "from sklearn.tree import DecisionTreeClassifier\n",
    "from sklearn.metrics import accuracy_score\n",
    "# Create a Decision Tree model\n",
    "tree_model = DecisionTreeClassifier()\n",
    "\n",
    "# Train the Decision Tree model\n",
    "tree_model.fit(X_train_tfidf, y_train)\n",
    "\n",
    "# Make predictions on the test set\n",
    "y_pred = tree_model.predict(X_test_tfidf)\n",
    "\n",
    "# Calculate accuracy\n",
    "accuracy = accuracy_score(y_test, y_pred)\n",
    "\n",
    "print(\"Accuracy:\", accuracy)"
   ],
   "metadata": {
    "collapsed": false
   }
  },
  {
   "cell_type": "code",
   "execution_count": 134,
   "outputs": [],
   "source": [],
   "metadata": {
    "collapsed": false
   }
  },
  {
   "cell_type": "code",
   "execution_count": null,
   "outputs": [],
   "source": [],
   "metadata": {
    "collapsed": false,
    "pycharm": {
     "is_executing": true
    }
   }
  },
  {
   "cell_type": "code",
   "execution_count": 109,
   "outputs": [],
   "source": [],
   "metadata": {
    "collapsed": false
   }
  }
 ],
 "metadata": {
  "kernelspec": {
   "display_name": "Python 3",
   "language": "python",
   "name": "python3"
  },
  "language_info": {
   "codemirror_mode": {
    "name": "ipython",
    "version": 2
   },
   "file_extension": ".py",
   "mimetype": "text/x-python",
   "name": "python",
   "nbconvert_exporter": "python",
   "pygments_lexer": "ipython2",
   "version": "2.7.6"
  }
 },
 "nbformat": 4,
 "nbformat_minor": 0
}
