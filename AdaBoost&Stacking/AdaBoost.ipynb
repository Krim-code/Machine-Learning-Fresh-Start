{
 "cells": [
  {
   "cell_type": "code",
   "execution_count": 146,
   "metadata": {
    "collapsed": true
   },
   "outputs": [],
   "source": [
    "import pandas as pd\n",
    "from sklearn.model_selection import train_test_split\n",
    "from sklearn.metrics import accuracy_score\n",
    "from sklearn.tree import DecisionTreeClassifier\n"
   ]
  },
  {
   "cell_type": "code",
   "execution_count": 169,
   "outputs": [
    {
     "name": "stdout",
     "output_type": "stream",
     "text": [
      "<class 'pandas.core.frame.DataFrame'>\n",
      "RangeIndex: 568630 entries, 0 to 568629\n",
      "Data columns (total 31 columns):\n",
      " #   Column  Non-Null Count   Dtype  \n",
      "---  ------  --------------   -----  \n",
      " 0   id      568630 non-null  int64  \n",
      " 1   V1      568630 non-null  float64\n",
      " 2   V2      568630 non-null  float64\n",
      " 3   V3      568630 non-null  float64\n",
      " 4   V4      568630 non-null  float64\n",
      " 5   V5      568630 non-null  float64\n",
      " 6   V6      568630 non-null  float64\n",
      " 7   V7      568630 non-null  float64\n",
      " 8   V8      568630 non-null  float64\n",
      " 9   V9      568630 non-null  float64\n",
      " 10  V10     568630 non-null  float64\n",
      " 11  V11     568630 non-null  float64\n",
      " 12  V12     568630 non-null  float64\n",
      " 13  V13     568630 non-null  float64\n",
      " 14  V14     568630 non-null  float64\n",
      " 15  V15     568630 non-null  float64\n",
      " 16  V16     568630 non-null  float64\n",
      " 17  V17     568630 non-null  float64\n",
      " 18  V18     568630 non-null  float64\n",
      " 19  V19     568630 non-null  float64\n",
      " 20  V20     568630 non-null  float64\n",
      " 21  V21     568630 non-null  float64\n",
      " 22  V22     568630 non-null  float64\n",
      " 23  V23     568630 non-null  float64\n",
      " 24  V24     568630 non-null  float64\n",
      " 25  V25     568630 non-null  float64\n",
      " 26  V26     568630 non-null  float64\n",
      " 27  V27     568630 non-null  float64\n",
      " 28  V28     568630 non-null  float64\n",
      " 29  Amount  568630 non-null  float64\n",
      " 30  Class   568630 non-null  int64  \n",
      "dtypes: float64(29), int64(2)\n",
      "memory usage: 134.5 MB\n"
     ]
    }
   ],
   "source": [
    "df = pd.read_csv(\"../datasets/creditcard_2023.csv\")\n",
    "df.info()"
   ],
   "metadata": {
    "collapsed": false
   }
  },
  {
   "cell_type": "code",
   "execution_count": 170,
   "outputs": [
    {
     "name": "stdout",
     "output_type": "stream",
     "text": [
      "            id        V1        V2        V3        V4        V5        V6  \\\n",
      "0            0 -0.260648 -0.469648  2.496266 -0.083724  0.129681  0.732898   \n",
      "1            1  0.985100 -0.356045  0.558056 -0.429654  0.277140  0.428605   \n",
      "2            2 -0.260272 -0.949385  1.728538 -0.457986  0.074062  1.419481   \n",
      "3            3 -0.152152 -0.508959  1.746840 -1.090178  0.249486  1.143312   \n",
      "4            4 -0.206820 -0.165280  1.527053 -0.448293  0.106125  0.530549   \n",
      "...        ...       ...       ...       ...       ...       ...       ...   \n",
      "568625  568625 -0.833437  0.061886 -0.899794  0.904227 -1.002401  0.481454   \n",
      "568626  568626 -0.670459 -0.202896 -0.068129 -0.267328 -0.133660  0.237148   \n",
      "568627  568627 -0.311997 -0.004095  0.137526 -0.035893 -0.042291  0.121098   \n",
      "568628  568628  0.636871 -0.516970 -0.300889 -0.144480  0.131042 -0.294148   \n",
      "568629  568629 -0.795144  0.433236 -0.649140  0.374732 -0.244976 -0.603493   \n",
      "\n",
      "              V7        V8        V9  ...       V21       V22       V23  \\\n",
      "0       0.519014 -0.130006  0.727159  ... -0.110552  0.217606 -0.134794   \n",
      "1       0.406466 -0.133118  0.347452  ... -0.194936 -0.605761  0.079469   \n",
      "2       0.743511 -0.095576 -0.261297  ... -0.005020  0.702906  0.945045   \n",
      "3       0.518269 -0.065130 -0.205698  ... -0.146927 -0.038212 -0.214048   \n",
      "4       0.658849 -0.212660  1.049921  ... -0.106984  0.729727 -0.161666   \n",
      "...          ...       ...       ...  ...       ...       ...       ...   \n",
      "568625 -0.370393  0.189694 -0.938153  ...  0.167503  0.419731  1.288249   \n",
      "568626 -0.016935 -0.147733  0.483894  ...  0.031874  0.388161 -0.154257   \n",
      "568627 -0.070958 -0.019997 -0.122048  ...  0.140788  0.536523 -0.211100   \n",
      "568628  0.580568 -0.207723  0.893527  ... -0.060381 -0.195609 -0.175488   \n",
      "568629 -0.347613 -0.340814  0.253971  ...  0.534853 -0.291514  0.157303   \n",
      "\n",
      "             V24       V25       V26       V27       V28    Amount  Class  \n",
      "0       0.165959  0.126280 -0.434824 -0.081230 -0.151045  17982.10      0  \n",
      "1      -0.577395  0.190090  0.296503 -0.248052 -0.064512   6531.37      0  \n",
      "2      -1.154666 -0.605564 -0.312895 -0.300258 -0.244718   2513.54      0  \n",
      "3      -1.893131  1.003963 -0.515950 -0.165316  0.048424   5384.44      0  \n",
      "4       0.312561 -0.414116  1.071126  0.023712  0.419117  14278.97      0  \n",
      "...          ...       ...       ...       ...       ...       ...    ...  \n",
      "568625 -0.900861  0.560661 -0.006018  3.308968  0.081564   4394.16      1  \n",
      "568626 -0.846452 -0.153443  1.961398 -1.528642  1.704306   4653.40      1  \n",
      "568627 -0.448909  0.540073 -0.755836 -0.487540 -0.268741  23572.85      1  \n",
      "568628 -0.554643 -0.099669 -1.434931 -0.159269 -0.076251  10160.83      1  \n",
      "568629  0.931030 -0.349423 -1.090974 -1.575113  0.722936  21493.92      1  \n",
      "\n",
      "[568630 rows x 31 columns]\n"
     ]
    }
   ],
   "source": [
    "# df = df.sample(n=10000, random_state=42)\n",
    "print(df)"
   ],
   "metadata": {
    "collapsed": false
   }
  },
  {
   "cell_type": "code",
   "execution_count": 171,
   "outputs": [],
   "source": [
    "data = df.values\n",
    "X = data[: , :-1]\n",
    "y = data[: , -1]"
   ],
   "metadata": {
    "collapsed": false
   }
  },
  {
   "cell_type": "code",
   "execution_count": 172,
   "outputs": [],
   "source": [
    "X_train, X_test, y_train, y_test = train_test_split(X, y, test_size=0.2, random_state=42)\n"
   ],
   "metadata": {
    "collapsed": false
   }
  },
  {
   "cell_type": "code",
   "execution_count": 172,
   "outputs": [],
   "source": [],
   "metadata": {
    "collapsed": false
   }
  },
  {
   "cell_type": "code",
   "execution_count": 173,
   "outputs": [],
   "source": [
    "import numpy as np\n",
    "\n",
    "class DecisionStump:\n",
    "    def __init__(self):\n",
    "        self.threshold = None\n",
    "        self.feature_index = None\n",
    "        self.alpha = None\n",
    "        self.prediction = None\n",
    "\n",
    "    def fit(self, X, y, sample_weight):\n",
    "        m, n = X.shape\n",
    "        min_error = float('inf')\n",
    "\n",
    "        for feature_index in range(n):\n",
    "            # Сортировка признаков\n",
    "            thresholds, unique_classes = zip(*sorted(zip(X[:, feature_index], y)))\n",
    "\n",
    "            # Инициализация сумм весов классов\n",
    "            total_positive_weight = sum(sample_weight * (y == 1))\n",
    "            total_negative_weight = sum(sample_weight * (y == -1))\n",
    "            current_negative_weight = 0\n",
    "\n",
    "            for i in range(m):\n",
    "                # Обновление веса отрицательного класса\n",
    "                current_negative_weight += sample_weight[i] * (y[i] == -1)\n",
    "\n",
    "                # Вычисление ошибки для текущего порога\n",
    "                error = min(current_negative_weight + total_positive_weight - current_negative_weight,\n",
    "                            current_negative_weight + total_negative_weight - current_negative_weight)\n",
    "\n",
    "                # Обновление порога, если ошибка уменьшилась\n",
    "                if error < min_error:\n",
    "                    min_error = error\n",
    "                    self.threshold = thresholds[i]\n",
    "                    self.feature_index = feature_index\n",
    "\n",
    "        # Вычисление веса для модели\n",
    "        if min_error == 0 or min_error == 1:\n",
    "            self.alpha = 0\n",
    "        else:\n",
    "            self.alpha = 0.5 * np.log((1 - min_error) / min_error)\n",
    "\n",
    "        # Вычисление предсказания для модели\n",
    "        self.prediction = np.ones(m)\n",
    "        self.prediction[X[:, self.feature_index] < self.threshold] = -1\n",
    "\n",
    "    def predict(self, X):\n",
    "        # Бинарная классификация\n",
    "        return np.where(X[:, self.feature_index] < self.threshold, -1, 1)"
   ],
   "metadata": {
    "collapsed": false
   }
  },
  {
   "cell_type": "code",
   "execution_count": 174,
   "outputs": [],
   "source": [
    "class AdaBoost:\n",
    "    def __init__(self, n_estimators):\n",
    "        self.n_estimators = n_estimators\n",
    "        self.alphas = []  # Веса базовых моделей\n",
    "        self.models = []  # Базовые модели\n",
    "\n",
    "    def fit(self, X, y):\n",
    "        m = X.shape[0]\n",
    "        w = np.ones(m) / m  # Инициализация весов\n",
    "\n",
    "        for _ in range(self.n_estimators):\n",
    "            model = DecisionTreeClassifier(max_depth=1)  # Используем DecisionTreeClassifier вместо DecisionStump\n",
    "            model.fit(X, y, sample_weight=w)  # Обучение базовой модели\n",
    "\n",
    "            predictions = model.predict(X)\n",
    "            error = np.sum(w * (predictions != y)) / np.sum(w)  # Вычисление ошибки\n",
    "\n",
    "            alpha = 0.5 * np.log((1 - error) / error)  # Вычисление веса базовой модели\n",
    "            w = w * np.exp(-alpha * y * predictions)  # Обновление весов\n",
    "\n",
    "            self.alphas.append(alpha)\n",
    "            self.models.append(model)\n",
    "\n",
    "    def predict(self, X):\n",
    "        # Суммируем предсказания базовых моделей, взвешенные их весами\n",
    "        predictions = np.sum(alpha * model.predict(X) for alpha, model in zip(self.alphas, self.models))\n",
    "        return np.sign(predictions)  # Возвращаем знак суммы"
   ],
   "metadata": {
    "collapsed": false
   }
  },
  {
   "cell_type": "code",
   "execution_count": 178,
   "outputs": [],
   "source": [
    "# Импорт и обучение модели AdaBoost\n",
    "adaboost_model = AdaBoost(n_estimators=10)\n",
    "adaboost_model.fit(X_train, y_train)"
   ],
   "metadata": {
    "collapsed": false
   }
  },
  {
   "cell_type": "code",
   "execution_count": 179,
   "outputs": [
    {
     "name": "stderr",
     "output_type": "stream",
     "text": [
      "C:\\Users\\Redmi\\AppData\\Local\\Temp\\ipykernel_23012\\4211530775.py:26: DeprecationWarning: Calling np.sum(generator) is deprecated, and in the future will give a different result. Use np.sum(np.fromiter(generator)) or the python sum builtin instead.\n",
      "  predictions = np.sum(alpha * model.predict(X) for alpha, model in zip(self.alphas, self.models))\n"
     ]
    }
   ],
   "source": [
    "# Предсказание на тестовом наборе\n",
    "y_pred = adaboost_model.predict(X_test)"
   ],
   "metadata": {
    "collapsed": false
   }
  },
  {
   "cell_type": "code",
   "execution_count": 180,
   "outputs": [
    {
     "name": "stdout",
     "output_type": "stream",
     "text": [
      "Accuracy: 0.9994812092221655\n"
     ]
    }
   ],
   "source": [
    "# Оценка точности модели\n",
    "accuracy = accuracy_score(y_test, y_pred)\n",
    "print(\"Accuracy:\", accuracy)"
   ],
   "metadata": {
    "collapsed": false
   }
  },
  {
   "cell_type": "code",
   "execution_count": 181,
   "outputs": [
    {
     "name": "stdout",
     "output_type": "stream",
     "text": [
      "            id        V1        V2        V3        V4        V5        V6  \\\n",
      "0            0 -0.260648 -0.469648  2.496266 -0.083724  0.129681  0.732898   \n",
      "1            1  0.985100 -0.356045  0.558056 -0.429654  0.277140  0.428605   \n",
      "2            2 -0.260272 -0.949385  1.728538 -0.457986  0.074062  1.419481   \n",
      "3            3 -0.152152 -0.508959  1.746840 -1.090178  0.249486  1.143312   \n",
      "4            4 -0.206820 -0.165280  1.527053 -0.448293  0.106125  0.530549   \n",
      "...        ...       ...       ...       ...       ...       ...       ...   \n",
      "568625  568625 -0.833437  0.061886 -0.899794  0.904227 -1.002401  0.481454   \n",
      "568626  568626 -0.670459 -0.202896 -0.068129 -0.267328 -0.133660  0.237148   \n",
      "568627  568627 -0.311997 -0.004095  0.137526 -0.035893 -0.042291  0.121098   \n",
      "568628  568628  0.636871 -0.516970 -0.300889 -0.144480  0.131042 -0.294148   \n",
      "568629  568629 -0.795144  0.433236 -0.649140  0.374732 -0.244976 -0.603493   \n",
      "\n",
      "              V7        V8        V9  ...       V21       V22       V23  \\\n",
      "0       0.519014 -0.130006  0.727159  ... -0.110552  0.217606 -0.134794   \n",
      "1       0.406466 -0.133118  0.347452  ... -0.194936 -0.605761  0.079469   \n",
      "2       0.743511 -0.095576 -0.261297  ... -0.005020  0.702906  0.945045   \n",
      "3       0.518269 -0.065130 -0.205698  ... -0.146927 -0.038212 -0.214048   \n",
      "4       0.658849 -0.212660  1.049921  ... -0.106984  0.729727 -0.161666   \n",
      "...          ...       ...       ...  ...       ...       ...       ...   \n",
      "568625 -0.370393  0.189694 -0.938153  ...  0.167503  0.419731  1.288249   \n",
      "568626 -0.016935 -0.147733  0.483894  ...  0.031874  0.388161 -0.154257   \n",
      "568627 -0.070958 -0.019997 -0.122048  ...  0.140788  0.536523 -0.211100   \n",
      "568628  0.580568 -0.207723  0.893527  ... -0.060381 -0.195609 -0.175488   \n",
      "568629 -0.347613 -0.340814  0.253971  ...  0.534853 -0.291514  0.157303   \n",
      "\n",
      "             V24       V25       V26       V27       V28    Amount  Class  \n",
      "0       0.165959  0.126280 -0.434824 -0.081230 -0.151045  17982.10      0  \n",
      "1      -0.577395  0.190090  0.296503 -0.248052 -0.064512   6531.37      0  \n",
      "2      -1.154666 -0.605564 -0.312895 -0.300258 -0.244718   2513.54      0  \n",
      "3      -1.893131  1.003963 -0.515950 -0.165316  0.048424   5384.44      0  \n",
      "4       0.312561 -0.414116  1.071126  0.023712  0.419117  14278.97      0  \n",
      "...          ...       ...       ...       ...       ...       ...    ...  \n",
      "568625 -0.900861  0.560661 -0.006018  3.308968  0.081564   4394.16      1  \n",
      "568626 -0.846452 -0.153443  1.961398 -1.528642  1.704306   4653.40      1  \n",
      "568627 -0.448909  0.540073 -0.755836 -0.487540 -0.268741  23572.85      1  \n",
      "568628 -0.554643 -0.099669 -1.434931 -0.159269 -0.076251  10160.83      1  \n",
      "568629  0.931030 -0.349423 -1.090974 -1.575113  0.722936  21493.92      1  \n",
      "\n",
      "[568630 rows x 31 columns]\n"
     ]
    }
   ],
   "source": [
    "print(df)"
   ],
   "metadata": {
    "collapsed": false
   }
  },
  {
   "cell_type": "code",
   "execution_count": 182,
   "outputs": [
    {
     "data": {
      "text/plain": "<Figure size 640x480 with 1 Axes>",
      "image/png": "[encoded data removed]"
     },
     "metadata": {},
     "output_type": "display_data"
    }
   ],
   "source": [
    "import seaborn as sns\n",
    "import matplotlib.pyplot as plt\n",
    "\n",
    "# График распределения классов\n",
    "sns.countplot(x='Class', data=df)\n",
    "plt.show()"
   ],
   "metadata": {
    "collapsed": false
   }
  },
  {
   "cell_type": "code",
   "execution_count": null,
   "outputs": [],
   "source": [],
   "metadata": {
    "collapsed": false,
    "pycharm": {
     "is_executing": true
    }
   }
  }
 ],
 "metadata": {
  "kernelspec": {
   "display_name": "Python 3",
   "language": "python",
   "name": "python3"
  },
  "language_info": {
   "codemirror_mode": {
    "name": "ipython",
    "version": 2
   },
   "file_extension": ".py",
   "mimetype": "text/x-python",
   "name": "python",
   "nbconvert_exporter": "python",
   "pygments_lexer": "ipython2",
   "version": "2.7.6"
  }
 },
 "nbformat": 4,
 "nbformat_minor": 0
}
