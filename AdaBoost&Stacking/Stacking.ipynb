{
 "cells": [
  {
   "cell_type": "code",
   "execution_count": 2,
   "metadata": {
    "collapsed": true
   },
   "outputs": [],
   "source": [
    "import numpy as np\n",
    "import pandas as pd\n",
    "\n",
    "from sklearn.neighbors import KNeighborsClassifier\n",
    "from sklearn.ensemble import RandomForestClassifier\n",
    "from xgboost import XGBClassifier\n",
    "from sklearn.linear_model import LogisticRegression\n",
    "\n",
    "from sklearn.model_selection import KFold\n",
    "from sklearn.model_selection import train_test_split\n",
    "from sklearn.model_selection import RandomizedSearchCV, GridSearchCV\n",
    "from sklearn.tree import DecisionTreeClassifier\n",
    "\n",
    "from sklearn.metrics import precision_score\n",
    "from sklearn.metrics import f1_score\n",
    "from sklearn.metrics import recall_score\n",
    "from sklearn.metrics import confusion_matrix"
   ]
  },
  {
   "cell_type": "code",
   "execution_count": 3,
   "outputs": [],
   "source": [
    "df = pd.read_csv(\"../datasets/creditcard_2023.csv\")"
   ],
   "metadata": {
    "collapsed": false
   }
  },
  {
   "cell_type": "code",
   "execution_count": 24,
   "outputs": [
    {
     "data": {
      "text/plain": "   id        V1        V2        V3        V4        V5        V6        V7  \\\n0   0 -0.260648 -0.469648  2.496266 -0.083724  0.129681  0.732898  0.519014   \n1   1  0.985100 -0.356045  0.558056 -0.429654  0.277140  0.428605  0.406466   \n2   2 -0.260272 -0.949385  1.728538 -0.457986  0.074062  1.419481  0.743511   \n3   3 -0.152152 -0.508959  1.746840 -1.090178  0.249486  1.143312  0.518269   \n4   4 -0.206820 -0.165280  1.527053 -0.448293  0.106125  0.530549  0.658849   \n\n         V8        V9  ...       V21       V22       V23       V24       V25  \\\n0 -0.130006  0.727159  ... -0.110552  0.217606 -0.134794  0.165959  0.126280   \n1 -0.133118  0.347452  ... -0.194936 -0.605761  0.079469 -0.577395  0.190090   \n2 -0.095576 -0.261297  ... -0.005020  0.702906  0.945045 -1.154666 -0.605564   \n3 -0.065130 -0.205698  ... -0.146927 -0.038212 -0.214048 -1.893131  1.003963   \n4 -0.212660  1.049921  ... -0.106984  0.729727 -0.161666  0.312561 -0.414116   \n\n        V26       V27       V28    Amount  Class  \n0 -0.434824 -0.081230 -0.151045  17982.10      0  \n1  0.296503 -0.248052 -0.064512   6531.37      0  \n2 -0.312895 -0.300258 -0.244718   2513.54      0  \n3 -0.515950 -0.165316  0.048424   5384.44      0  \n4  1.071126  0.023712  0.419117  14278.97      0  \n\n[5 rows x 31 columns]",
      "text/html": "<div>\n<style scoped>\n    .dataframe tbody tr th:only-of-type {\n        vertical-align: middle;\n    }\n\n    .dataframe tbody tr th {\n        vertical-align: top;\n    }\n\n    .dataframe thead th {\n        text-align: right;\n    }\n</style>\n<table border=\"1\" class=\"dataframe\">\n  <thead>\n    <tr style=\"text-align: right;\">\n      <th></th>\n      <th>id</th>\n      <th>V1</th>\n      <th>V2</th>\n      <th>V3</th>\n      <th>V4</th>\n      <th>V5</th>\n      <th>V6</th>\n      <th>V7</th>\n      <th>V8</th>\n      <th>V9</th>\n      <th>...</th>\n      <th>V21</th>\n      <th>V22</th>\n      <th>V23</th>\n      <th>V24</th>\n      <th>V25</th>\n      <th>V26</th>\n      <th>V27</th>\n      <th>V28</th>\n      <th>Amount</th>\n      <th>Class</th>\n    </tr>\n  </thead>\n  <tbody>\n    <tr>\n      <th>0</th>\n      <td>0</td>\n      <td>-0.260648</td>\n      <td>-0.469648</td>\n      <td>2.496266</td>\n      <td>-0.083724</td>\n      <td>0.129681</td>\n      <td>0.732898</td>\n      <td>0.519014</td>\n      <td>-0.130006</td>\n      <td>0.727159</td>\n      <td>...</td>\n      <td>-0.110552</td>\n      <td>0.217606</td>\n      <td>-0.134794</td>\n      <td>0.165959</td>\n      <td>0.126280</td>\n      <td>-0.434824</td>\n      <td>-0.081230</td>\n      <td>-0.151045</td>\n      <td>17982.10</td>\n      <td>0</td>\n    </tr>\n    <tr>\n      <th>1</th>\n      <td>1</td>\n      <td>0.985100</td>\n      <td>-0.356045</td>\n      <td>0.558056</td>\n      <td>-0.429654</td>\n      <td>0.277140</td>\n      <td>0.428605</td>\n      <td>0.406466</td>\n      <td>-0.133118</td>\n      <td>0.347452</td>\n      <td>...</td>\n      <td>-0.194936</td>\n      <td>-0.605761</td>\n      <td>0.079469</td>\n      <td>-0.577395</td>\n      <td>0.190090</td>\n      <td>0.296503</td>\n      <td>-0.248052</td>\n      <td>-0.064512</td>\n      <td>6531.37</td>\n      <td>0</td>\n    </tr>\n    <tr>\n      <th>2</th>\n      <td>2</td>\n      <td>-0.260272</td>\n      <td>-0.949385</td>\n      <td>1.728538</td>\n      <td>-0.457986</td>\n      <td>0.074062</td>\n      <td>1.419481</td>\n      <td>0.743511</td>\n      <td>-0.095576</td>\n      <td>-0.261297</td>\n      <td>...</td>\n      <td>-0.005020</td>\n      <td>0.702906</td>\n      <td>0.945045</td>\n      <td>-1.154666</td>\n      <td>-0.605564</td>\n      <td>-0.312895</td>\n      <td>-0.300258</td>\n      <td>-0.244718</td>\n      <td>2513.54</td>\n      <td>0</td>\n    </tr>\n    <tr>\n      <th>3</th>\n      <td>3</td>\n      <td>-0.152152</td>\n      <td>-0.508959</td>\n      <td>1.746840</td>\n      <td>-1.090178</td>\n      <td>0.249486</td>\n      <td>1.143312</td>\n      <td>0.518269</td>\n      <td>-0.065130</td>\n      <td>-0.205698</td>\n      <td>...</td>\n      <td>-0.146927</td>\n      <td>-0.038212</td>\n      <td>-0.214048</td>\n      <td>-1.893131</td>\n      <td>1.003963</td>\n      <td>-0.515950</td>\n      <td>-0.165316</td>\n      <td>0.048424</td>\n      <td>5384.44</td>\n      <td>0</td>\n    </tr>\n    <tr>\n      <th>4</th>\n      <td>4</td>\n      <td>-0.206820</td>\n      <td>-0.165280</td>\n      <td>1.527053</td>\n      <td>-0.448293</td>\n      <td>0.106125</td>\n      <td>0.530549</td>\n      <td>0.658849</td>\n      <td>-0.212660</td>\n      <td>1.049921</td>\n      <td>...</td>\n      <td>-0.106984</td>\n      <td>0.729727</td>\n      <td>-0.161666</td>\n      <td>0.312561</td>\n      <td>-0.414116</td>\n      <td>1.071126</td>\n      <td>0.023712</td>\n      <td>0.419117</td>\n      <td>14278.97</td>\n      <td>0</td>\n    </tr>\n  </tbody>\n</table>\n<p>5 rows × 31 columns</p>\n</div>"
     },
     "execution_count": 24,
     "metadata": {},
     "output_type": "execute_result"
    }
   ],
   "source": [
    "features = np.array(df.columns[:-1])\n",
    "label = np.array(df.columns[-1])\n",
    "data = df.values\n",
    "X = data[: , :-1]\n",
    "y = data[: , -1]\n",
    "X_train, X_test, y_train, y_test = train_test_split(X, y, test_size = 0.33, random_state = 42)\n",
    "df.head()"
   ],
   "metadata": {
    "collapsed": false
   }
  },
  {
   "cell_type": "code",
   "execution_count": 5,
   "outputs": [],
   "source": [
    "kf = KFold(n_splits = 5)"
   ],
   "metadata": {
    "collapsed": false
   }
  },
  {
   "cell_type": "markdown",
   "source": [
    "### Старт Ансамбля"
   ],
   "metadata": {
    "collapsed": false
   }
  },
  {
   "cell_type": "code",
   "execution_count": 6,
   "outputs": [],
   "source": [
    "def scores(clf, x_tr, y_tr, x_te, y_te):\n",
    "    clf.fit(x_tr, y_tr)\n",
    "    pred = clf.predict(x_te)\n",
    "    print('Precision:',precision_score(y_te, pred))\n",
    "    print('Recall:',recall_score(y_te, pred))\n",
    "    print('F1:',f1_score(y_te, pred))\n",
    "    print('Confusion Matrix (tn, fp, fn, tp):',confusion_matrix(y_te, pred).ravel())"
   ],
   "metadata": {
    "collapsed": false
   }
  },
  {
   "cell_type": "code",
   "execution_count": 7,
   "outputs": [],
   "source": [
    "# function to return metafeatures for classifier clf, data x, labels y with kf k-fold\n",
    "def get_metafeatures(clf, x, y, kf):\n",
    "    meta_feat = np.zeros((len(x),))\n",
    "    for train_index, test_index in kf.split(x, y):\n",
    "        X_tr, X_te = x[train_index], x[test_index]\n",
    "        y_tr, y_te = y[train_index], y[test_index]\n",
    "        clf.fit(X_tr, y_tr)\n",
    "        y_pred = clf.predict(X_te)\n",
    "        meta_feat[test_index] = y_pred\n",
    "    return meta_feat.reshape(-1, 1)"
   ],
   "metadata": {
    "collapsed": false
   }
  },
  {
   "cell_type": "code",
   "execution_count": 8,
   "outputs": [
    {
     "name": "stderr",
     "output_type": "stream",
     "text": [
      "C:\\Users\\Redmi\\Documents\\Programming\\Python\\MachineLearning\\venv\\Lib\\site-packages\\joblib\\externals\\loky\\backend\\context.py:136: UserWarning: Could not find the number of physical cores for the following reason:\n",
      "found 0 physical cores < 1\n",
      "Returning the number of logical cores instead. You can silence this warning by setting LOKY_MAX_CPU_COUNT to the number of cores you want to use.\n",
      "  warnings.warn(\n",
      "  File \"C:\\Users\\Redmi\\Documents\\Programming\\Python\\MachineLearning\\venv\\Lib\\site-packages\\joblib\\externals\\loky\\backend\\context.py\", line 282, in _count_physical_cores\n",
      "    raise ValueError(f\"found {cpu_count_physical} physical cores < 1\")\n"
     ]
    },
    {
     "name": "stdout",
     "output_type": "stream",
     "text": [
      "Precision: 0.9980193169838244\n",
      "Recall: 0.9983807910687844\n",
      "F1: 0.998200021301523\n",
      "Confusion Matrix (tn, fp, fn, tp): [93589   186   152 93721]\n"
     ]
    }
   ],
   "source": [
    "# best KNN classifier after hyperparameter tuning based on F1 score\n",
    "b_knn = KNeighborsClassifier(algorithm='auto', leaf_size=30, metric='minkowski',\n",
    "           metric_params=None, n_jobs=1, n_neighbors=1, p=2,\n",
    "           weights='uniform')\n",
    "pred_train_knn = get_metafeatures(b_knn, X_train, y_train, kf)\n",
    "pred_test_knn = get_metafeatures(b_knn, X_test, y_test, kf)\n",
    "scores(b_knn, X_train, y_train, X_test, y_test)"
   ],
   "metadata": {
    "collapsed": false
   }
  },
  {
   "cell_type": "code",
   "execution_count": 15,
   "outputs": [
    {
     "name": "stdout",
     "output_type": "stream",
     "text": [
      "Precision: 0.9997230330016831\n",
      "Recall: 0.9997336827415764\n",
      "F1: 0.9997283578432677\n",
      "Confusion Matrix (tn, fp, fn, tp): [93749    26    25 93848]\n"
     ]
    }
   ],
   "source": [
    "# best RF classifier after hyperparameter tuning based on F1 score\n",
    "b_rf = RandomForestClassifier(bootstrap=True, class_weight=None, criterion='gini',\n",
    "            max_depth=8, max_leaf_nodes=None,\n",
    "            min_impurity_decrease=0.0,\n",
    "            min_samples_leaf=2, min_samples_split=5,\n",
    "            min_weight_fraction_leaf=0.0, n_estimators=50, n_jobs=1,\n",
    "            oob_score=False, random_state=42, verbose=0,\n",
    "            warm_start=False)\n",
    "pred_train_rf = get_metafeatures(b_rf, X_train, y_train, kf)\n",
    "pred_test_rf = get_metafeatures(b_rf, X_test, y_test, kf)\n",
    "scores(b_rf, X_train, y_train, X_test, y_test)"
   ],
   "metadata": {
    "collapsed": false
   }
  },
  {
   "cell_type": "code",
   "execution_count": 18,
   "outputs": [
    {
     "name": "stderr",
     "output_type": "stream",
     "text": [
      "C:\\Users\\Redmi\\Documents\\Programming\\Python\\MachineLearning\\venv\\Lib\\site-packages\\xgboost\\core.py:160: UserWarning: [01:43:18] WARNING: C:\\buildkite-agent\\builds\\buildkite-windows-cpu-autoscaling-group-i-0750514818a16474a-1\\xgboost\\xgboost-ci-windows\\src\\learner.cc:742: \n",
      "Parameters: { \"silent\" } are not used.\n",
      "\n",
      "  warnings.warn(smsg, UserWarning)\n",
      "C:\\Users\\Redmi\\Documents\\Programming\\Python\\MachineLearning\\venv\\Lib\\site-packages\\xgboost\\core.py:160: UserWarning: [01:43:24] WARNING: C:\\buildkite-agent\\builds\\buildkite-windows-cpu-autoscaling-group-i-0750514818a16474a-1\\xgboost\\xgboost-ci-windows\\src\\learner.cc:742: \n",
      "Parameters: { \"silent\" } are not used.\n",
      "\n",
      "  warnings.warn(smsg, UserWarning)\n",
      "C:\\Users\\Redmi\\Documents\\Programming\\Python\\MachineLearning\\venv\\Lib\\site-packages\\xgboost\\core.py:160: UserWarning: [01:43:31] WARNING: C:\\buildkite-agent\\builds\\buildkite-windows-cpu-autoscaling-group-i-0750514818a16474a-1\\xgboost\\xgboost-ci-windows\\src\\learner.cc:742: \n",
      "Parameters: { \"silent\" } are not used.\n",
      "\n",
      "  warnings.warn(smsg, UserWarning)\n",
      "C:\\Users\\Redmi\\Documents\\Programming\\Python\\MachineLearning\\venv\\Lib\\site-packages\\xgboost\\core.py:160: UserWarning: [01:43:37] WARNING: C:\\buildkite-agent\\builds\\buildkite-windows-cpu-autoscaling-group-i-0750514818a16474a-1\\xgboost\\xgboost-ci-windows\\src\\learner.cc:742: \n",
      "Parameters: { \"silent\" } are not used.\n",
      "\n",
      "  warnings.warn(smsg, UserWarning)\n",
      "C:\\Users\\Redmi\\Documents\\Programming\\Python\\MachineLearning\\venv\\Lib\\site-packages\\xgboost\\core.py:160: UserWarning: [01:43:44] WARNING: C:\\buildkite-agent\\builds\\buildkite-windows-cpu-autoscaling-group-i-0750514818a16474a-1\\xgboost\\xgboost-ci-windows\\src\\learner.cc:742: \n",
      "Parameters: { \"silent\" } are not used.\n",
      "\n",
      "  warnings.warn(smsg, UserWarning)\n",
      "C:\\Users\\Redmi\\Documents\\Programming\\Python\\MachineLearning\\venv\\Lib\\site-packages\\xgboost\\core.py:160: UserWarning: [01:43:49] WARNING: C:\\buildkite-agent\\builds\\buildkite-windows-cpu-autoscaling-group-i-0750514818a16474a-1\\xgboost\\xgboost-ci-windows\\src\\learner.cc:742: \n",
      "Parameters: { \"silent\" } are not used.\n",
      "\n",
      "  warnings.warn(smsg, UserWarning)\n",
      "C:\\Users\\Redmi\\Documents\\Programming\\Python\\MachineLearning\\venv\\Lib\\site-packages\\xgboost\\core.py:160: UserWarning: [01:43:52] WARNING: C:\\buildkite-agent\\builds\\buildkite-windows-cpu-autoscaling-group-i-0750514818a16474a-1\\xgboost\\xgboost-ci-windows\\src\\learner.cc:742: \n",
      "Parameters: { \"silent\" } are not used.\n",
      "\n",
      "  warnings.warn(smsg, UserWarning)\n",
      "C:\\Users\\Redmi\\Documents\\Programming\\Python\\MachineLearning\\venv\\Lib\\site-packages\\xgboost\\core.py:160: UserWarning: [01:43:56] WARNING: C:\\buildkite-agent\\builds\\buildkite-windows-cpu-autoscaling-group-i-0750514818a16474a-1\\xgboost\\xgboost-ci-windows\\src\\learner.cc:742: \n",
      "Parameters: { \"silent\" } are not used.\n",
      "\n",
      "  warnings.warn(smsg, UserWarning)\n",
      "C:\\Users\\Redmi\\Documents\\Programming\\Python\\MachineLearning\\venv\\Lib\\site-packages\\xgboost\\core.py:160: UserWarning: [01:43:59] WARNING: C:\\buildkite-agent\\builds\\buildkite-windows-cpu-autoscaling-group-i-0750514818a16474a-1\\xgboost\\xgboost-ci-windows\\src\\learner.cc:742: \n",
      "Parameters: { \"silent\" } are not used.\n",
      "\n",
      "  warnings.warn(smsg, UserWarning)\n",
      "C:\\Users\\Redmi\\Documents\\Programming\\Python\\MachineLearning\\venv\\Lib\\site-packages\\xgboost\\core.py:160: UserWarning: [01:44:02] WARNING: C:\\buildkite-agent\\builds\\buildkite-windows-cpu-autoscaling-group-i-0750514818a16474a-1\\xgboost\\xgboost-ci-windows\\src\\learner.cc:742: \n",
      "Parameters: { \"silent\" } are not used.\n",
      "\n",
      "  warnings.warn(smsg, UserWarning)\n",
      "C:\\Users\\Redmi\\Documents\\Programming\\Python\\MachineLearning\\venv\\Lib\\site-packages\\xgboost\\core.py:160: UserWarning: [01:44:07] WARNING: C:\\buildkite-agent\\builds\\buildkite-windows-cpu-autoscaling-group-i-0750514818a16474a-1\\xgboost\\xgboost-ci-windows\\src\\learner.cc:742: \n",
      "Parameters: { \"silent\" } are not used.\n",
      "\n",
      "  warnings.warn(smsg, UserWarning)\n"
     ]
    },
    {
     "name": "stdout",
     "output_type": "stream",
     "text": [
      "Precision: 0.9997762768201479\n",
      "Recall: 0.9997017246705655\n",
      "F1: 0.9997389993554883\n",
      "Confusion Matrix (tn, fp, fn, tp): [93754    21    28 93845]\n"
     ]
    }
   ],
   "source": [
    "# best XGB classifier after hyperparameter tuning based on F1 score\n",
    "b_xgb = XGBClassifier(base_score=0.5, booster='gbtree', colsample_bylevel=1,\n",
    "       colsample_bytree=1, gamma=0, learning_rate=0.1, max_delta_step=0,\n",
    "       max_depth=3, min_child_weight=1, missing=0, n_estimators=210,\n",
    "       n_jobs=1, nthread=None, objective='binary:logistic', random_state=42,\n",
    "       reg_alpha=0, reg_lambda=1, scale_pos_weight=1, seed=None,\n",
    "       silent=True, subsample=1)\n",
    "pred_train_xgb = get_metafeatures(b_xgb, X_train, y_train, kf)\n",
    "pred_test_xgb = get_metafeatures(b_xgb, X_test, y_test, kf)\n",
    "scores(b_xgb, X_train, y_train, X_test, y_test)"
   ],
   "metadata": {
    "collapsed": false
   }
  },
  {
   "cell_type": "code",
   "execution_count": 14,
   "outputs": [
    {
     "name": "stdout",
     "output_type": "stream",
     "text": [
      "Precision: 0.9984210470165257\n",
      "Recall: 0.99693202518296\n",
      "F1: 0.9976759805123504\n",
      "Confusion Matrix (tn, fp, fn, tp): [93627   148   288 93585]\n"
     ]
    }
   ],
   "source": [
    "# best LR classifier after hyperparameter tuning based on F1 score\n",
    "b_lr = LogisticRegression(C=0.11, class_weight=None, dual=False, fit_intercept=True,\n",
    "          intercept_scaling=1, max_iter=100, multi_class='ovr', n_jobs=1,\n",
    "          penalty='l1', random_state=78, solver='liblinear', tol=0.0001,\n",
    "          verbose=0, warm_start=False)\n",
    "pred_train_lr = get_metafeatures(b_lr, X_train, y_train, kf)\n",
    "pred_test_lr = get_metafeatures(b_lr, X_test, y_test, kf)\n",
    "scores(b_lr, X_train, y_train, X_test, y_test)"
   ],
   "metadata": {
    "collapsed": false
   }
  },
  {
   "cell_type": "code",
   "execution_count": 19,
   "outputs": [
    {
     "name": "stdout",
     "output_type": "stream",
     "text": [
      "(380982, 31) (187648, 31)\n"
     ]
    }
   ],
   "source": [
    "X_train = np.hstack((X_train, pred_train_knn))\n",
    "X_test = np.hstack((X_test, pred_test_knn))\n",
    "print(np.shape(X_train), np.shape(X_test))"
   ],
   "metadata": {
    "collapsed": false
   }
  },
  {
   "cell_type": "code",
   "execution_count": 20,
   "outputs": [
    {
     "name": "stdout",
     "output_type": "stream",
     "text": [
      "(380982, 32) (187648, 32)\n"
     ]
    }
   ],
   "source": [
    "X_train = np.hstack((X_train, pred_train_rf))\n",
    "X_test = np.hstack((X_test, pred_test_rf))\n",
    "print(np.shape(X_train), np.shape(X_test))"
   ],
   "metadata": {
    "collapsed": false
   }
  },
  {
   "cell_type": "code",
   "execution_count": 21,
   "outputs": [
    {
     "name": "stdout",
     "output_type": "stream",
     "text": [
      "(380982, 33) (187648, 33)\n"
     ]
    }
   ],
   "source": [
    "X_train = np.hstack((X_train, pred_train_xgb))\n",
    "X_test = np.hstack((X_test, pred_test_xgb))\n",
    "print(np.shape(X_train), np.shape(X_test))"
   ],
   "metadata": {
    "collapsed": false
   }
  },
  {
   "cell_type": "code",
   "execution_count": 22,
   "outputs": [
    {
     "name": "stdout",
     "output_type": "stream",
     "text": [
      "(380982, 34) (187648, 34)\n"
     ]
    }
   ],
   "source": [
    "X_train = np.hstack((X_train, pred_train_lr))\n",
    "X_test = np.hstack((X_test, pred_test_lr))\n",
    "print(np.shape(X_train), np.shape(X_test))"
   ],
   "metadata": {
    "collapsed": false
   }
  },
  {
   "cell_type": "code",
   "execution_count": null,
   "outputs": [],
   "source": [
    "###"
   ],
   "metadata": {
    "collapsed": false
   }
  },
  {
   "cell_type": "code",
   "execution_count": 23,
   "outputs": [
    {
     "name": "stderr",
     "output_type": "stream",
     "text": [
      "C:\\Users\\Redmi\\Documents\\Programming\\Python\\MachineLearning\\venv\\Lib\\site-packages\\xgboost\\core.py:160: UserWarning: [01:44:52] WARNING: C:\\buildkite-agent\\builds\\buildkite-windows-cpu-autoscaling-group-i-0750514818a16474a-1\\xgboost\\xgboost-ci-windows\\src\\learner.cc:742: \n",
      "Parameters: { \"silent\" } are not used.\n",
      "\n",
      "  warnings.warn(smsg, UserWarning)\n"
     ]
    },
    {
     "name": "stdout",
     "output_type": "stream",
     "text": [
      "Precision: 0.9998934515311015\n",
      "Recall: 0.9996910719802286\n",
      "F1: 0.9997922515141668\n",
      "Confusion Matrix (tn, fp, fn, tp): [93765    10    29 93844]\n"
     ]
    }
   ],
   "source": [
    "ens_xgb = XGBClassifier(base_score=0.5, booster='gbtree', colsample_bylevel=1,\n",
    "       colsample_bytree=1, gamma=0, learning_rate=0.1, max_delta_step=0,\n",
    "       max_depth=3, min_child_weight=1, missing=0, n_estimators=210,\n",
    "       n_jobs=1, nthread=None, objective='binary:logistic', random_state=42,\n",
    "       reg_alpha=0, reg_lambda=1, scale_pos_weight=1, seed=None,\n",
    "       silent=True, subsample=1)\n",
    "scores(ens_xgb, X_train, y_train, X_test, y_test)"
   ],
   "metadata": {
    "collapsed": false
   }
  },
  {
   "cell_type": "code",
   "execution_count": null,
   "outputs": [],
   "source": [],
   "metadata": {
    "collapsed": false
   }
  }
 ],
 "metadata": {
  "kernelspec": {
   "display_name": "Python 3",
   "language": "python",
   "name": "python3"
  },
  "language_info": {
   "codemirror_mode": {
    "name": "ipython",
    "version": 2
   },
   "file_extension": ".py",
   "mimetype": "text/x-python",
   "name": "python",
   "nbconvert_exporter": "python",
   "pygments_lexer": "ipython2",
   "version": "2.7.6"
  }
 },
 "nbformat": 4,
 "nbformat_minor": 0
}
