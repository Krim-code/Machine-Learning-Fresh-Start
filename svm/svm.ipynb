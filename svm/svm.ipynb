{
 "cells": [
  {
   "cell_type": "code",
   "execution_count": 47,
   "outputs": [],
   "source": [
    "import numpy as np\n",
    "from sklearn.model_selection import train_test_split\n",
    "from sklearn.metrics import accuracy_score\n",
    "from scipy.sparse import csc_matrix\n",
    "from scipy.sparse import lil_matrix\n",
    "from sklearn.preprocessing import StandardScaler\n",
    "from sklearn.svm import SVC\n",
    "\n",
    "import pandas as pd"
   ],
   "metadata": {
    "collapsed": false
   }
  },
  {
   "cell_type": "code",
   "execution_count": 48,
   "outputs": [
    {
     "name": "stdout",
     "output_type": "stream",
     "text": [
      "<class 'pandas.core.frame.DataFrame'>\n",
      "RangeIndex: 568630 entries, 0 to 568629\n",
      "Data columns (total 31 columns):\n",
      " #   Column  Non-Null Count   Dtype  \n",
      "---  ------  --------------   -----  \n",
      " 0   id      568630 non-null  int64  \n",
      " 1   V1      568630 non-null  float64\n",
      " 2   V2      568630 non-null  float64\n",
      " 3   V3      568630 non-null  float64\n",
      " 4   V4      568630 non-null  float64\n",
      " 5   V5      568630 non-null  float64\n",
      " 6   V6      568630 non-null  float64\n",
      " 7   V7      568630 non-null  float64\n",
      " 8   V8      568630 non-null  float64\n",
      " 9   V9      568630 non-null  float64\n",
      " 10  V10     568630 non-null  float64\n",
      " 11  V11     568630 non-null  float64\n",
      " 12  V12     568630 non-null  float64\n",
      " 13  V13     568630 non-null  float64\n",
      " 14  V14     568630 non-null  float64\n",
      " 15  V15     568630 non-null  float64\n",
      " 16  V16     568630 non-null  float64\n",
      " 17  V17     568630 non-null  float64\n",
      " 18  V18     568630 non-null  float64\n",
      " 19  V19     568630 non-null  float64\n",
      " 20  V20     568630 non-null  float64\n",
      " 21  V21     568630 non-null  float64\n",
      " 22  V22     568630 non-null  float64\n",
      " 23  V23     568630 non-null  float64\n",
      " 24  V24     568630 non-null  float64\n",
      " 25  V25     568630 non-null  float64\n",
      " 26  V26     568630 non-null  float64\n",
      " 27  V27     568630 non-null  float64\n",
      " 28  V28     568630 non-null  float64\n",
      " 29  Amount  568630 non-null  float64\n",
      " 30  Class   568630 non-null  int64  \n",
      "dtypes: float64(29), int64(2)\n",
      "memory usage: 134.5 MB\n"
     ]
    }
   ],
   "source": [
    "df = pd.read_csv(\"../datasets/creditcard_2023.csv\")\n",
    "df.info()"
   ],
   "metadata": {
    "collapsed": false
   }
  },
  {
   "cell_type": "code",
   "execution_count": 58,
   "outputs": [
    {
     "name": "stdout",
     "output_type": "stream",
     "text": [
      "<class 'pandas.core.frame.DataFrame'>\n",
      "Index: 10000 entries, 475968 to 272207\n",
      "Data columns (total 31 columns):\n",
      " #   Column  Non-Null Count  Dtype  \n",
      "---  ------  --------------  -----  \n",
      " 0   id      10000 non-null  int64  \n",
      " 1   V1      10000 non-null  float64\n",
      " 2   V2      10000 non-null  float64\n",
      " 3   V3      10000 non-null  float64\n",
      " 4   V4      10000 non-null  float64\n",
      " 5   V5      10000 non-null  float64\n",
      " 6   V6      10000 non-null  float64\n",
      " 7   V7      10000 non-null  float64\n",
      " 8   V8      10000 non-null  float64\n",
      " 9   V9      10000 non-null  float64\n",
      " 10  V10     10000 non-null  float64\n",
      " 11  V11     10000 non-null  float64\n",
      " 12  V12     10000 non-null  float64\n",
      " 13  V13     10000 non-null  float64\n",
      " 14  V14     10000 non-null  float64\n",
      " 15  V15     10000 non-null  float64\n",
      " 16  V16     10000 non-null  float64\n",
      " 17  V17     10000 non-null  float64\n",
      " 18  V18     10000 non-null  float64\n",
      " 19  V19     10000 non-null  float64\n",
      " 20  V20     10000 non-null  float64\n",
      " 21  V21     10000 non-null  float64\n",
      " 22  V22     10000 non-null  float64\n",
      " 23  V23     10000 non-null  float64\n",
      " 24  V24     10000 non-null  float64\n",
      " 25  V25     10000 non-null  float64\n",
      " 26  V26     10000 non-null  float64\n",
      " 27  V27     10000 non-null  float64\n",
      " 28  V28     10000 non-null  float64\n",
      " 29  Amount  10000 non-null  float64\n",
      " 30  Class   10000 non-null  int64  \n",
      "dtypes: float64(29), int64(2)\n",
      "memory usage: 2.4 MB\n",
      "None\n",
      "                  id            V1            V2            V3            V4  \\\n",
      "count   10000.000000  10000.000000  10000.000000  10000.000000  10000.000000   \n",
      "mean   284484.895800      0.010909      0.002471     -0.001150      0.003841   \n",
      "std    162930.882315      0.996453      0.933521      0.990542      0.990140   \n",
      "min         2.000000     -2.636371     -7.792186     -2.517181     -3.563398   \n",
      "25%    144078.000000     -0.559120     -0.490807     -0.639265     -0.633379   \n",
      "50%    285336.000000     -0.090558     -0.136737     -0.000889     -0.079096   \n",
      "75%    424284.500000      0.842426      0.341859      0.628008      0.691829   \n",
      "max    568600.000000      2.127090      4.310753      4.197537      2.383629   \n",
      "\n",
      "                 V5            V6            V7            V8            V9  \\\n",
      "count  10000.000000  10000.000000  10000.000000  10000.000000  10000.000000   \n",
      "mean      -0.000868     -0.008457      0.002041      0.004312      0.002867   \n",
      "std        0.947862      0.977045      0.932549      0.968431      0.986997   \n",
      "min       -3.299458     -4.510938     -4.282783     -6.401165     -3.749037   \n",
      "25%       -0.286969     -0.441210     -0.279276     -0.192669     -0.560383   \n",
      "50%        0.085272      0.069703      0.231409     -0.115361      0.103439   \n",
      "75%        0.437549      0.482325      0.526626      0.044722      0.570585   \n",
      "max        9.695651      6.853794     19.857485      5.951470      8.751632   \n",
      "\n",
      "       ...           V21           V22           V23           V24  \\\n",
      "count  ...  10000.000000  10000.000000  10000.000000  10000.000000   \n",
      "mean   ...     -0.003897      0.010753      0.006575      0.007191   \n",
      "std    ...      0.955008      0.964633      0.903595      1.000018   \n",
      "min    ...    -11.797024     -6.450353    -13.797483     -4.051283   \n",
      "25%    ...     -0.166869     -0.479130     -0.232102     -0.645954   \n",
      "50%    ...     -0.036007     -0.016512     -0.056339      0.031558   \n",
      "75%    ...      0.147444      0.467558      0.160812      0.719600   \n",
      "max    ...      8.087080      9.764326      8.099317      9.395956   \n",
      "\n",
      "                V25           V26           V27           V28        Amount  \\\n",
      "count  10000.000000  10000.000000  10000.000000  10000.000000  10000.000000   \n",
      "mean       0.007897      0.005700      0.007295     -0.001168  12032.314377   \n",
      "std        0.984702      0.994505      0.976966      0.984513   6927.914388   \n",
      "min       -6.479019     -4.184694     -4.947034    -20.993100     54.910000   \n",
      "25%       -0.537850     -0.625347     -0.305404     -0.227207   6054.452500   \n",
      "50%        0.002752     -0.009549     -0.173517     -0.011956  11961.875000   \n",
      "75%        0.544521      0.683795      0.334901      0.399934  18122.210000   \n",
      "max        5.006156      4.546559      7.903031     14.959777  24036.260000   \n",
      "\n",
      "              Class  \n",
      "count  10000.000000  \n",
      "mean       0.501700  \n",
      "std        0.500022  \n",
      "min        0.000000  \n",
      "25%        0.000000  \n",
      "50%        1.000000  \n",
      "75%        1.000000  \n",
      "max        1.000000  \n",
      "\n",
      "[8 rows x 31 columns]\n",
      "            id        V1        V2        V3        V4        V5        V6  \\\n",
      "475968  475968  0.065895 -0.020931 -0.420074  0.042437 -0.110371  0.247712   \n",
      "232664  232664 -0.893605  0.504098 -0.360319 -0.737396 -0.383920 -0.288480   \n",
      "501393  501393 -0.580166 -0.965844  1.017809  0.107115  0.186969  0.181473   \n",
      "180771  180771  1.623425 -0.640467 -0.179419 -0.531831  0.475238  0.210787   \n",
      "12339    12339  0.980715 -0.529894  1.109525 -0.922342 -0.040614  0.312978   \n",
      "\n",
      "              V7        V8        V9  ...       V21       V22       V23  \\\n",
      "475968  0.313957 -0.457835  0.053174  ... -0.299674  0.200315 -0.021381   \n",
      "232664  0.041145  0.406615  0.585930  ... -0.031668 -0.314736  0.510809   \n",
      "501393  0.695188 -0.218572  0.855148  ... -0.254620  0.359868  0.778694   \n",
      "180771  0.603601 -0.199352  0.733696  ... -0.101771 -0.168696 -0.183208   \n",
      "12339   0.231448 -0.160748  2.915189  ... -0.150368  0.163749 -0.040290   \n",
      "\n",
      "             V24       V25       V26       V27       V28    Amount  Class  \n",
      "475968  0.279154 -0.044467 -1.216900  0.097112  0.110568  22789.91      1  \n",
      "232664  0.002285 -1.460591  0.080728 -2.448935 -1.459694  20107.45      0  \n",
      "501393  0.879859  0.316333 -0.371024 -0.173283  0.764404  13044.12      1  \n",
      "180771 -1.730908  0.254021  1.258345 -0.385470 -0.293092   6076.62      0  \n",
      "12339   0.163891  0.639896 -1.791973 -0.135460 -0.028604  21373.30      0  \n",
      "\n",
      "[5 rows x 31 columns]\n"
     ]
    }
   ],
   "source": [
    "df = df.sample(n=10000, random_state=42)\n",
    "print(df.info())\n",
    "print(df.describe())\n",
    "print(df.head())"
   ],
   "metadata": {
    "collapsed": false
   }
  },
  {
   "cell_type": "code",
   "execution_count": 59,
   "outputs": [],
   "source": [
    "data = df.values\n",
    "# print(data.isnull().sum())\n",
    "# # Удаление строк с пропущенными значениями\n",
    "# data_cleaned = data.dropna()\n",
    "X = data[: , 1:-1]\n",
    "y = data[: , -1]\n",
    "\n"
   ],
   "metadata": {
    "collapsed": false
   }
  },
  {
   "cell_type": "code",
   "execution_count": 60,
   "outputs": [],
   "source": [
    "scaler = StandardScaler()\n",
    "\n",
    "X_train, X_test, y_train, y_test = train_test_split(X, y, test_size=0.2, random_state=42)\n",
    "# Обучение scaler на обучающих данных и одновременное их масштабирование\n",
    "X_train = scaler.fit_transform(X_train)\n",
    "\n",
    "# Применение того же масштабирования к тестовым данным\n",
    "X_test = scaler.transform(X_test)"
   ],
   "metadata": {
    "collapsed": false
   }
  },
  {
   "cell_type": "code",
   "execution_count": 61,
   "outputs": [],
   "source": [
    "def linear_kernel(x1, x2):\n",
    "    return np.dot(x1, x2)"
   ],
   "metadata": {
    "collapsed": false
   }
  },
  {
   "cell_type": "code",
   "execution_count": 62,
   "outputs": [],
   "source": [
    "def rbf_kernel(x1, x2, sigma=1.0):\n",
    "    return np.exp(-np.linalg.norm(x1 - x2)**2 / (2 * (sigma**2)))"
   ],
   "metadata": {
    "collapsed": false
   }
  },
  {
   "cell_type": "code",
   "execution_count": 54,
   "outputs": [],
   "source": [
    "class SVM:\n",
    "    def __init__(self, kernel='linear', C=100, epsilon=1e-5, sigma=1.0):\n",
    "        self.kernel = kernel\n",
    "        self.C = C\n",
    "        self.epsilon = epsilon\n",
    "        self.sigma = sigma\n",
    "        self.support_indices = None\n",
    "\n",
    "    def linear_kernel(self, x1, x2):\n",
    "        return np.dot(x1, x2)\n",
    "\n",
    "    def rbf_kernel(self, x1, x2):\n",
    "        return np.exp(-np.linalg.norm(x1 - x2)**2 / (2 * (self.sigma**2)))\n",
    "\n",
    "    def compute_kernel_matrix(self, X):\n",
    "        n_samples = X.shape[0]\n",
    "        kernel_matrix = lil_matrix((n_samples, n_samples))\n",
    "\n",
    "        for i in range(n_samples):\n",
    "            for j in range(i, n_samples):\n",
    "                if self.kernel == 'linear':\n",
    "                    kernel_matrix[i, j] = self.linear_kernel(X[i], X[j])\n",
    "                    kernel_matrix[j, i] = kernel_matrix[i, j]  # Матрица Грама симметрична\n",
    "                elif self.kernel == 'rbf':\n",
    "                    kernel_matrix[i, j] = self.rbf_kernel(X[i], X[j])\n",
    "                    kernel_matrix[j, i] = kernel_matrix[i, j]\n",
    "\n",
    "        return kernel_matrix.tocsr()\n",
    "\n",
    "    def fit(self, X, y):\n",
    "        n_samples, n_features = X.shape\n",
    "\n",
    "        # Вычисление ядра для матрицы\n",
    "        kernel_matrix = self.compute_kernel_matrix(X)\n",
    "\n",
    "        # Добавление регуляризации к матрице Грама\n",
    "        gram_matrix = kernel_matrix + self.epsilon * np.identity(n_samples)\n",
    "\n",
    "        # Формулировка задачи квадратичного программирования\n",
    "        P = gram_matrix\n",
    "        q = -np.ones(n_samples)\n",
    "        G = np.vstack([-np.eye(n_samples), np.eye(n_samples)])\n",
    "        h = np.hstack([np.zeros(n_samples), np.ones(n_samples) * self.C])\n",
    "\n",
    "        # Решение задачи квадратичного программирования\n",
    "        alpha = np.linalg.solve(P, q)\n",
    "        alpha = np.maximum(0, alpha)\n",
    "        alpha = np.minimum(self.C, alpha)\n",
    "\n",
    "        # Нахождение оптимального вектора весов\n",
    "        if self.kernel == 'linear':\n",
    "            self.w = np.dot(X.T, alpha * y)\n",
    "        elif self.kernel == 'rbf':\n",
    "            self.support_indices = np.arange(n_samples)[(alpha > 0) & (alpha < self.C)]\n",
    "            self.w = np.sum((alpha[self.support_indices] * y[self.support_indices]).reshape(-1, 1) * X[self.support_indices], axis=0)\n",
    "\n",
    "        # Сохранение опорных векторов и их меток\n",
    "        self.support_vectors = X[self.support_indices]\n",
    "        self.support_labels = y[self.support_indices]\n",
    "\n",
    "    def predict(self, X):\n",
    "        if self.kernel == 'linear':\n",
    "            return np.sign(np.dot(X, self.w))\n",
    "        elif self.kernel == 'rbf':\n",
    "            n_samples = X.shape[0]\n",
    "            predictions = np.zeros(n_samples)\n",
    "\n",
    "            for i in range(n_samples):\n",
    "                kernel_values = np.array([self.rbf_kernel(X[i], x) for x in self.support_vectors])\n",
    "                predictions[i] = np.sign(np.sum(kernel_values * self.support_labels))\n",
    "\n",
    "            return predictions.astype(int)"
   ],
   "metadata": {
    "collapsed": false
   }
  },
  {
   "cell_type": "code",
   "execution_count": 57,
   "outputs": [
    {
     "name": "stdout",
     "output_type": "stream",
     "text": [
      "Accuracy with linear kernel: 0.964\n"
     ]
    }
   ],
   "source": [
    "svm_linear = SVM(kernel='linear')\n",
    "svm_linear.fit(X_train, y_train)\n",
    "y_pred_linear = svm_linear.predict(X_test)\n",
    "accuracy_linear = accuracy_score(y_test, y_pred_linear)\n",
    "print(f\"Accuracy with linear kernel: {accuracy_linear}\")"
   ],
   "metadata": {
    "collapsed": false
   }
  },
  {
   "cell_type": "code",
   "execution_count": 45,
   "outputs": [
    {
     "name": "stdout",
     "output_type": "stream",
     "text": [
      "Accuracy with RBF kernel: 0.9616666666666667\n"
     ]
    }
   ],
   "source": [
    "# Инициализация SVM с RBF ядром\n",
    "svm_rbf = SVM(kernel='rbf')\n",
    "svm_rbf.fit(X_train, y_train)\n",
    "y_pred_rbf = svm_rbf.predict(X_test)\n",
    "accuracy_rbf = accuracy_score(y_test, y_pred_rbf)\n",
    "print(f\"Accuracy with RBF kernel: {accuracy_rbf}\")"
   ],
   "metadata": {
    "collapsed": false
   }
  },
  {
   "cell_type": "code",
   "execution_count": 43,
   "outputs": [
    {
     "data": {
      "text/plain": "<Figure size 640x480 with 1 Axes>",
      "image/png": "[encoded data removed]"
     },
     "metadata": {},
     "output_type": "display_data"
    }
   ],
   "source": [
    "import seaborn as sns\n",
    "import matplotlib.pyplot as plt\n",
    "\n",
    "# График распределения классов\n",
    "sns.countplot(x='Class', data=df)\n",
    "plt.show()"
   ],
   "metadata": {
    "collapsed": false
   }
  },
  {
   "cell_type": "code",
   "execution_count": 28,
   "outputs": [
    {
     "name": "stdout",
     "output_type": "stream",
     "text": [
      "Best Parameter for C: {'C': 100}\n"
     ]
    }
   ],
   "source": [
    "from sklearn.model_selection import GridSearchCV\n",
    "\n",
    "param_grid = {'C': [0.1, 1, 10, 100]}\n",
    "grid_search = GridSearchCV(SVC(kernel='rbf'), param_grid, cv=5, scoring='accuracy')\n",
    "grid_search.fit(X, y)\n",
    "\n",
    "print(\"Best Parameter for C:\", grid_search.best_params_)"
   ],
   "metadata": {
    "collapsed": false
   }
  },
  {
   "cell_type": "code",
   "execution_count": 29,
   "outputs": [
    {
     "name": "stdout",
     "output_type": "stream",
     "text": [
      "Best Parameters for C and gamma: {'C': 1, 'gamma': 0.1}\n"
     ]
    }
   ],
   "source": [
    "param_grid = {'C': [0.1, 1, 10, 100], 'gamma': [0.1, 1, 10]}\n",
    "grid_search = GridSearchCV(SVC(kernel='rbf'), param_grid, cv=5, scoring='accuracy')\n",
    "grid_search.fit(X, y)\n",
    "\n",
    "print(\"Best Parameters for C and gamma:\", grid_search.best_params_)\n"
   ],
   "metadata": {
    "collapsed": false
   }
  },
  {
   "cell_type": "code",
   "execution_count": null,
   "outputs": [],
   "source": [
    "param_grid = {'C': [0.1, 1, 10, 100], 'kernel': ['linear', 'poly', 'rbf', 'sigmoid']}\n",
    "grid_search = GridSearchCV(SVC(), param_grid, cv=5, scoring='accuracy')\n",
    "grid_search.fit(X, y)\n",
    "\n",
    "print(\"Best Parameters for C and Kernel:\", grid_search.best_params_)"
   ],
   "metadata": {
    "collapsed": false
   }
  },
  {
   "cell_type": "code",
   "execution_count": null,
   "outputs": [],
   "source": [],
   "metadata": {
    "collapsed": false
   }
  }
 ],
 "metadata": {
  "kernelspec": {
   "display_name": "Python 3",
   "language": "python",
   "name": "python3"
  },
  "language_info": {
   "codemirror_mode": {
    "name": "ipython",
    "version": 2
   },
   "file_extension": ".py",
   "mimetype": "text/x-python",
   "name": "python",
   "nbconvert_exporter": "python",
   "pygments_lexer": "ipython2",
   "version": "2.7.6"
  }
 },
 "nbformat": 4,
 "nbformat_minor": 0
}
